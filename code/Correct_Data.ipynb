{
 "cells": [
  {
   "cell_type": "code",
   "execution_count": 4,
   "id": "6a3281c1-5c45-4f04-ad79-8a150219ee6b",
   "metadata": {},
   "outputs": [
    {
     "name": "stdout",
     "output_type": "stream",
     "text": [
      "OK -> ost_data.csv | rows=11743 cols=14\n"
     ]
    }
   ],
   "source": [
    "from pathlib import Path\n",
    "from io import StringIO\n",
    "import re\n",
    "import pandas as pd\n",
    "\n",
    "in_path  = Path(\"ost_data_raw.csv\")\n",
    "out_path = in_path.with_name(\"ost_data.csv\")\n",
    "\n",
    "expected_cols = [\n",
    "    \"Data\",\"Ora\",\"Shkembimi skeduluar nderkufitar\",\"Shkembimi fizik nderkufitar\",\n",
    "    \"Frekuenca\",\"Prodhimi Total\",\"Ngarkesa Totale\",\"AGC Integral of ACE\",\n",
    "    \"Shkembimi fizik nderkufitar AL-ME\",\"Shkembimi skeduluar nderkufitar AL-ME\",\n",
    "    \"Shkembimi fizik nderkufitar AL-KS\",\"Shkembimi skeduluar nderkufitar AL-KS\",\n",
    "    \"Shkembimi fizik nderkufitar AL-GR\",\"Shkembimi skeduluar nderkufitar AL-GR\"\n",
    "]\n",
    "\n",
    "raw = in_path.read_text(encoding=\"utf-8\", errors=\"ignore\")\n",
    "lines = raw.splitlines()\n",
    "\n",
    "hdr = lines[0]\n",
    "if hdr.count(\";\") < 3 and hdr.count(\",\") >= 3:\n",
    "    hdr = hdr.replace(\",\", \";\")\n",
    "\n",
    "fixed_lines = [hdr]\n",
    "for ln in lines[1:]:\n",
    "    ln = ln.rstrip()\n",
    "    if not ln:\n",
    "        continue\n",
    "    ln = re.sub(r\",+\\s*$\", \"\", ln)   # hiq presjet fundore\n",
    "    fixed_lines.append(ln)\n",
    "\n",
    "buf = StringIO(\"\\n\".join(fixed_lines))\n",
    "df = pd.read_csv(buf, sep=\";\", engine=\"python\")\n",
    "\n",
    "if len(df.columns) != len(expected_cols):\n",
    "    df = df.iloc[:, :len(expected_cols)].copy()\n",
    "df.columns = expected_cols\n",
    "\n",
    "# ✔ FIX: përdor .str.strip() në vend të .strip()\n",
    "df[\"Ora\"] = df[\"Ora\"].astype(str).str.strip().str.upper()\n",
    "\n",
    "df.to_csv(out_path, sep=\";\", index=False, encoding=\"utf-8\")\n",
    "print(f\"OK -> {out_path} | rows={len(df)} cols={df.shape[1]}\")\n",
    "\n"
   ]
  },
  {
   "cell_type": "code",
   "execution_count": null,
   "id": "2164f8c9-873c-4a85-b1eb-23aa21de7a89",
   "metadata": {},
   "outputs": [],
   "source": []
  }
 ],
 "metadata": {
  "kernelspec": {
   "display_name": "Python 3 (ipykernel)",
   "language": "python",
   "name": "python3"
  },
  "language_info": {
   "codemirror_mode": {
    "name": "ipython",
    "version": 3
   },
   "file_extension": ".py",
   "mimetype": "text/x-python",
   "name": "python",
   "nbconvert_exporter": "python",
   "pygments_lexer": "ipython3",
   "version": "3.12.2"
  }
 },
 "nbformat": 4,
 "nbformat_minor": 5
}
